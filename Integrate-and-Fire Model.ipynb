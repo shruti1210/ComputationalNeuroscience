{
 "cells": [
  {
   "cell_type": "code",
   "execution_count": 96,
   "id": "d251487d",
   "metadata": {},
   "outputs": [],
   "source": [
    "import numpy as np\n",
    "import math\n",
    "from matplotlib import pyplot as plt"
   ]
  },
  {
   "cell_type": "code",
   "execution_count": 97,
   "id": "333c9a4e",
   "metadata": {},
   "outputs": [
    {
     "data": {
      "text/plain": [
       "-0.07"
      ]
     },
     "execution_count": 97,
     "metadata": {},
     "output_type": "execute_result"
    }
   ],
   "source": [
    "leak_potential = -70*pow(10,-3)\n",
    "leak_potential"
   ]
  },
  {
   "cell_type": "code",
   "execution_count": 98,
   "id": "e42f7490",
   "metadata": {},
   "outputs": [
    {
     "data": {
      "text/plain": [
       "5000000"
      ]
     },
     "execution_count": 98,
     "metadata": {},
     "output_type": "execute_result"
    }
   ],
   "source": [
    "membrane_resistance = 5*pow(10,6)\n",
    "membrane_resistance "
   ]
  },
  {
   "cell_type": "code",
   "execution_count": 99,
   "id": "39725651",
   "metadata": {},
   "outputs": [
    {
     "data": {
      "text/plain": [
       "2e-12"
      ]
     },
     "execution_count": 99,
     "metadata": {},
     "output_type": "execute_result"
    }
   ],
   "source": [
    "membrane_capacitance = 2*(pow(10,-12))\n",
    "membrane_capacitance"
   ]
  },
  {
   "cell_type": "code",
   "execution_count": 100,
   "id": "317f500d",
   "metadata": {},
   "outputs": [
    {
     "data": {
      "text/plain": [
       "9.999999999999999e-06"
      ]
     },
     "execution_count": 100,
     "metadata": {},
     "output_type": "execute_result"
    }
   ],
   "source": [
    "time_constant = membrane_resistance*membrane_capacitance\n",
    "time_constant"
   ]
  },
  {
   "cell_type": "code",
   "execution_count": 101,
   "id": "c4d21d55",
   "metadata": {},
   "outputs": [
    {
     "data": {
      "text/plain": [
       "-0.05"
      ]
     },
     "execution_count": 101,
     "metadata": {},
     "output_type": "execute_result"
    }
   ],
   "source": [
    "spike_threshold = -50*pow(10, -3)\n",
    "spike_threshold"
   ]
  },
  {
   "cell_type": "code",
   "execution_count": 102,
   "id": "ec99177b",
   "metadata": {},
   "outputs": [
    {
     "data": {
      "text/plain": [
       "-0.065"
      ]
     },
     "execution_count": 102,
     "metadata": {},
     "output_type": "execute_result"
    }
   ],
   "source": [
    "reset_potential = -65*pow(10, -3)\n",
    "reset_potential"
   ]
  },
  {
   "cell_type": "code",
   "execution_count": 103,
   "id": "02bf4312",
   "metadata": {},
   "outputs": [
    {
     "data": {
      "text/plain": [
       "array([0.  , 0.01, 0.02, 0.03, 0.04, 0.05, 0.06, 0.07, 0.08, 0.09, 0.1 ,\n",
       "       0.11, 0.12, 0.13, 0.14, 0.15, 0.16, 0.17, 0.18, 0.19])"
      ]
     },
     "execution_count": 103,
     "metadata": {},
     "output_type": "execute_result"
    }
   ],
   "source": [
    "time_vector = np.arange(0, .2, 0.01)\n",
    "time_vector "
   ]
  },
  {
   "cell_type": "code",
   "execution_count": 104,
   "id": "56143aba",
   "metadata": {},
   "outputs": [],
   "source": [
    "membrane_potential_vector = np.full((20),leak_potential)"
   ]
  },
  {
   "cell_type": "code",
   "execution_count": 105,
   "id": "23dbd372",
   "metadata": {},
   "outputs": [
    {
     "data": {
      "text/plain": [
       "array([-0.07, -0.07, -0.07, -0.07, -0.07, -0.07, -0.07, -0.07, -0.07,\n",
       "       -0.07, -0.07, -0.07, -0.07, -0.07, -0.07, -0.07, -0.07, -0.07,\n",
       "       -0.07, -0.07])"
      ]
     },
     "execution_count": 105,
     "metadata": {},
     "output_type": "execute_result"
    }
   ],
   "source": [
    "membrane_potential_vector"
   ]
  },
  {
   "cell_type": "code",
   "execution_count": 106,
   "id": "00094c38",
   "metadata": {},
   "outputs": [],
   "source": [
    "#Ith = (Vth - El)*GL or (Vth - El)/RL\n",
    "threshold_current = (spike_threshold - leak_potential)/(membrane_resistance)"
   ]
  },
  {
   "cell_type": "code",
   "execution_count": 107,
   "id": "19ef55f1",
   "metadata": {},
   "outputs": [
    {
     "data": {
      "text/plain": [
       "4.000000000000001e-09"
      ]
     },
     "execution_count": 107,
     "metadata": {},
     "output_type": "execute_result"
    }
   ],
   "source": [
    "threshold_current"
   ]
  },
  {
   "cell_type": "code",
   "execution_count": 108,
   "id": "d2cfc608",
   "metadata": {},
   "outputs": [],
   "source": [
    "#applied_current_vector = np.full((20), Io)\n",
    "applied_current_vector = np.zeros(20)\n",
    "for i in range(20):\n",
    "    if(i<10 or i > 15):\n",
    "        applied_current_vector[i] = 0\n",
    "    else:\n",
    "        applied_current_vector[i] = 6*pow(10,-9)\n",
    "        \n",
    "#for i in range(20):\n",
    "    #print(applied_current_vector[i])"
   ]
  },
  {
   "cell_type": "code",
   "execution_count": 109,
   "id": "9fd3dd73",
   "metadata": {
    "scrolled": true
   },
   "outputs": [
    {
     "data": {
      "image/png": "[encoded data removed]",
      "text/plain": [
       "<Figure size 432x288 with 1 Axes>"
      ]
     },
     "metadata": {
      "needs_background": "light"
     },
     "output_type": "display_data"
    }
   ],
   "source": [
    "plt.plot(time_vector, applied_current_vector)\n",
    "plt.show()\n",
    "#plt.xlim(0, 1)\n",
    "#plt.ylim(-pow(10, -15), pow(10, -15))"
   ]
  },
  {
   "cell_type": "code",
   "execution_count": 110,
   "id": "e381f8a2",
   "metadata": {},
   "outputs": [
    {
     "data": {
      "text/plain": [
       "array([ 0.        ,  4.03678987,  2.37269326,  3.27002361,  5.46976783,\n",
       "        0.76525538,  5.29951479,  5.12986001,  0.64123021, 25.40308698,\n",
       "        0.30721984,  0.84002367,  9.55628096,  1.02991074,  4.12903106,\n",
       "        0.75619574,  5.61285141,  0.99736596,  3.61912075,  7.58147884])"
      ]
     },
     "execution_count": 110,
     "metadata": {},
     "output_type": "execute_result"
    }
   ],
   "source": [
    "#noise_vec = randn(size(t))*sigma_I*sqrt(dt)\n",
    "sigma_I = 100*np.random.rand(20)\n",
    "noise_vector = np.random.rand(20)\n",
    "for i in range(20):\n",
    "    noise_vector[i] = noise_vector[i]*sigma_I[i]*math.sqrt(time_vector[i])\n",
    "noise_vector"
   ]
  },
  {
   "cell_type": "code",
   "execution_count": 111,
   "id": "3c6befff",
   "metadata": {},
   "outputs": [],
   "source": [
    "vm = membrane_potential_vector[0]\n",
    "i = 0\n",
    "dt = 0.1\n",
    "\n",
    "for i in range(time_vector.size -2):\n",
    "    #tp = time_vector[i]\n",
    "    dVmdt =  (leak_potential - membrane_potential_vector[i])/membrane_resistance*membrane_capacitance + applied_current_vector[i]/membrane_capacitance\n",
    "    #print(\"change in potential at\" , time_vector[i+1] , \"is\" , dVmdt)\n",
    "    membrane_potential_vector[i+1] = membrane_potential_vector[i] + dt*dVmdt + noise_vector[i]\n",
    "    #print(\"the membrane potential at\", time_vector[i+1] , \"is\" , membrane_potential_vector[i+1])\n",
    "    #V(i) = V(i-1) + dt*(I(i) +G_L*(E_L-V(i-1)))/Cm;\n",
    "    if(membrane_potential_vector[i+1] > spike_threshold):\n",
    "        #print(\"potential reset\")\n",
    "        membrane_potential_vector[i+2] = reset_potential"
   ]
  },
  {
   "cell_type": "code",
   "execution_count": 112,
   "id": "2bcfe17a",
   "metadata": {
    "scrolled": true
   },
   "outputs": [
    {
     "data": {
      "image/png": "[encoded data removed]",
      "text/plain": [
       "<Figure size 432x288 with 1 Axes>"
      ]
     },
     "metadata": {
      "needs_background": "light"
     },
     "output_type": "display_data"
    }
   ],
   "source": [
    "plt.plot(time_vector, membrane_potential_vector)\n",
    "plt.show()"
   ]
  },
  {
   "cell_type": "code",
   "execution_count": 113,
   "id": "3784598a",
   "metadata": {},
   "outputs": [],
   "source": [
    "#applied_current_vector = np.full((20), Io)\n",
    "i = 1\n",
    "applied_current_vector = np.zeros(20)\n",
    "for i in range(20):\n",
    "        applied_current_vector[i] = applied_current_vector[i-1] + 2*pow(10,-9)"
   ]
  },
  {
   "cell_type": "code",
   "execution_count": 114,
   "id": "63d422be",
   "metadata": {},
   "outputs": [
    {
     "data": {
      "image/png": "[encoded data removed]",
      "text/plain": [
       "<Figure size 432x288 with 1 Axes>"
      ]
     },
     "metadata": {
      "needs_background": "light"
     },
     "output_type": "display_data"
    }
   ],
   "source": [
    "plt.plot(time_vector, applied_current_vector)\n",
    "plt.show()"
   ]
  },
  {
   "cell_type": "code",
   "execution_count": 115,
   "id": "a2a20474",
   "metadata": {},
   "outputs": [],
   "source": [
    "firing_rate = np.zeros(20)\n",
    "for i in range(20):\n",
    "    if((applied_current_vector[i]*membrane_resistance + leak_potential - reset_potential) > 0 and (applied_current_vector[i]*membrane_resistance + leak_potential - spike_threshold)>0):\n",
    "        firing_rate[i] = 1/(time_constant*math.log(applied_current_vector[i]*membrane_resistance + leak_potential - reset_potential) - time_constant*math.log(applied_current_vector[i]*membrane_resistance + leak_potential - spike_threshold))"
   ]
  },
  {
   "cell_type": "code",
   "execution_count": 116,
   "id": "233237cd",
   "metadata": {},
   "outputs": [
    {
     "data": {
      "image/png": "[encoded data removed]",
      "text/plain": [
       "<Figure size 432x288 with 1 Axes>"
      ]
     },
     "metadata": {
      "needs_background": "light"
     },
     "output_type": "display_data"
    }
   ],
   "source": [
    "plt.plot(firing_rate, applied_current_vector)\n",
    "plt.show()"
   ]
  },
  {
   "cell_type": "code",
   "execution_count": 117,
   "id": "c8546026",
   "metadata": {},
   "outputs": [
    {
     "data": {
      "image/png": "[encoded data removed]",
      "text/plain": [
       "<Figure size 432x288 with 1 Axes>"
      ]
     },
     "metadata": {
      "needs_background": "light"
     },
     "output_type": "display_data"
    }
   ],
   "source": [
    "plt.plot(firing_rate, sigma_I)\n",
    "plt.show()"
   ]
  },
  {
   "cell_type": "code",
   "execution_count": null,
   "id": "98a8380d",
   "metadata": {},
   "outputs": [],
   "source": []
  },
  {
   "cell_type": "code",
   "execution_count": null,
   "id": "e8d42897",
   "metadata": {},
   "outputs": [],
   "source": []
  },
  {
   "cell_type": "code",
   "execution_count": null,
   "id": "ed100dcf",
   "metadata": {},
   "outputs": [],
   "source": []
  },
  {
   "cell_type": "code",
   "execution_count": null,
   "id": "65136255",
   "metadata": {},
   "outputs": [],
   "source": []
  }
 ],
 "metadata": {
  "kernelspec": {
   "display_name": "Python 3",
   "language": "python",
   "name": "python3"
  },
  "language_info": {
   "codemirror_mode": {
    "name": "ipython",
    "version": 3
   },
   "file_extension": ".py",
   "mimetype": "text/x-python",
   "name": "python",
   "nbconvert_exporter": "python",
   "pygments_lexer": "ipython3",
   "version": "3.8.10"
  }
 },
 "nbformat": 4,
 "nbformat_minor": 5
}
