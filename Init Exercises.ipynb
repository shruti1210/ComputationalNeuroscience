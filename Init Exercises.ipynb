{
 "cells": [
  {
   "cell_type": "code",
   "execution_count": 4,
   "id": "97088109",
   "metadata": {},
   "outputs": [],
   "source": [
    "import array as arr"
   ]
  },
  {
   "cell_type": "code",
   "execution_count": 5,
   "id": "28d0c82c",
   "metadata": {},
   "outputs": [],
   "source": [
    "a = arr.array('i', [1, 2, 3])"
   ]
  },
  {
   "cell_type": "code",
   "execution_count": 6,
   "id": "6750eb26",
   "metadata": {},
   "outputs": [],
   "source": [
    "import numpy as np\n",
    "import random"
   ]
  },
  {
   "cell_type": "code",
   "execution_count": 7,
   "id": "a8358313",
   "metadata": {},
   "outputs": [
    {
     "data": {
      "text/plain": [
       "array([[1., 1., 1., 1., 1.],\n",
       "       [1., 1., 1., 1., 1.],\n",
       "       [1., 1., 1., 1., 1.],\n",
       "       [1., 1., 1., 1., 1.],\n",
       "       [1., 1., 1., 1., 1.]])"
      ]
     },
     "execution_count": 7,
     "metadata": {},
     "output_type": "execute_result"
    }
   ],
   "source": [
    "np.arange(25).reshape((5, 5))         # create a 1-d range and reshape\n",
    "np.array(range(25)).reshape((5, 5))   # pass a Python range and reshape\n",
    "np.array([5] * 25).reshape((5, 5))    # pass a Python list and reshape\n",
    "np.empty((5, 5))                      # allocate, but don't initialize\n",
    "np.ones((5, 5))                       # initialize with ones"
   ]
  },
  {
   "cell_type": "code",
   "execution_count": 8,
   "id": "47b5beb0",
   "metadata": {},
   "outputs": [
    {
     "name": "stdout",
     "output_type": "stream",
     "text": [
      "100\n"
     ]
    }
   ],
   "source": [
    "a = np.zeros(100)\n",
    "print(a.size)"
   ]
  },
  {
   "cell_type": "code",
   "execution_count": 9,
   "id": "f1f68e23",
   "metadata": {},
   "outputs": [],
   "source": [
    "i=0\n",
    "n = a.size\n",
    "for i in range(100):\n",
    "    a[i] = i+1\n",
    "    i = i+1"
   ]
  },
  {
   "cell_type": "code",
   "execution_count": 10,
   "id": "72495e37",
   "metadata": {},
   "outputs": [
    {
     "name": "stdout",
     "output_type": "stream",
     "text": [
      "100.0\n"
     ]
    }
   ],
   "source": [
    "print(a[99])"
   ]
  },
  {
   "cell_type": "code",
   "execution_count": 11,
   "id": "6d1eaac9",
   "metadata": {},
   "outputs": [],
   "source": [
    "#list(range(1,101))"
   ]
  },
  {
   "cell_type": "code",
   "execution_count": 12,
   "id": "f95e1475",
   "metadata": {},
   "outputs": [],
   "source": [
    "a = np.zeros((10,10))"
   ]
  },
  {
   "cell_type": "code",
   "execution_count": 13,
   "id": "f2073a5a",
   "metadata": {},
   "outputs": [],
   "source": [
    "for i in range(10):\n",
    "    for j in range(10):\n",
    "        if(i==j):\n",
    "            a[i][j] = 5\n",
    "        else:\n",
    "            a[i][j] = -3"
   ]
  },
  {
   "cell_type": "code",
   "execution_count": 14,
   "id": "ccc76fd8",
   "metadata": {},
   "outputs": [],
   "source": [
    "b =  10 + 10*np.random.rand(5,3)"
   ]
  },
  {
   "cell_type": "code",
   "execution_count": 15,
   "id": "5236862f",
   "metadata": {},
   "outputs": [
    {
     "data": {
      "text/plain": [
       "array([[10.36156833, 19.53320285, 16.9024661 ],\n",
       "       [11.7840834 , 14.59124543, 15.12918671],\n",
       "       [16.18230946, 13.57788836, 19.29930913],\n",
       "       [13.62258268, 19.89369151, 13.48046577],\n",
       "       [17.9413399 , 16.13122308, 16.09359349]])"
      ]
     },
     "execution_count": 15,
     "metadata": {},
     "output_type": "execute_result"
    }
   ],
   "source": [
    "b"
   ]
  },
  {
   "cell_type": "code",
   "execution_count": 16,
   "id": "019732a4",
   "metadata": {},
   "outputs": [],
   "source": [
    "e = np.zeros((20))"
   ]
  },
  {
   "cell_type": "code",
   "execution_count": 17,
   "id": "6b49b42c",
   "metadata": {},
   "outputs": [],
   "source": [
    "i = 0\n",
    "for i in range(20):\n",
    "    if(i<=15):\n",
    "        e[i] =  2 + random.random()\n",
    "    else:\n",
    "        e[i] = -2 + random.random()"
   ]
  },
  {
   "cell_type": "code",
   "execution_count": 18,
   "id": "d97e2204",
   "metadata": {},
   "outputs": [
    {
     "data": {
      "text/plain": [
       "array([ 2.22000918,  2.95697326,  2.07770888,  2.43446201,  2.89361337,\n",
       "        2.09140615,  2.03650455,  2.70256433,  2.75259741,  2.42897582,\n",
       "        2.01135926,  2.20048238,  2.83356788,  2.32832762,  2.90196823,\n",
       "        2.98116227, -1.12196961, -1.36874402, -1.33207468, -1.14012988])"
      ]
     },
     "execution_count": 18,
     "metadata": {},
     "output_type": "execute_result"
    }
   ],
   "source": [
    "e"
   ]
  },
  {
   "cell_type": "code",
   "execution_count": null,
   "id": "4cb5764c",
   "metadata": {},
   "outputs": [],
   "source": []
  },
  {
   "cell_type": "code",
   "execution_count": null,
   "id": "5c64cc83",
   "metadata": {},
   "outputs": [],
   "source": []
  }
 ],
 "metadata": {
  "kernelspec": {
   "display_name": "Python 3",
   "language": "python",
   "name": "python3"
  },
  "language_info": {
   "codemirror_mode": {
    "name": "ipython",
    "version": 3
   },
   "file_extension": ".py",
   "mimetype": "text/x-python",
   "name": "python",
   "nbconvert_exporter": "python",
   "pygments_lexer": "ipython3",
   "version": "3.8.10"
  }
 },
 "nbformat": 4,
 "nbformat_minor": 5
}
